{
 "cells": [
  {
   "cell_type": "code",
   "execution_count": 1,
   "metadata": {
    "collapsed": true
   },
   "outputs": [],
   "source": [
    "import pandas as pd\n",
    "import numpy as np\n",
    "import matplotlib.pyplot as plt\n",
    "df=pd.read_csv(\"infos.csv\")"
   ]
  },
  {
   "cell_type": "code",
   "execution_count": 2,
   "outputs": [
    {
     "data": {
      "text/plain": "              house_code city area street rent_type  region rent_price  \\\n0  BJ1564859542443917312   北京   海淀    西北旺        整租  中海枫涟山庄    8000元/月   \n1  BJ1564867555972087808   北京   朝阳  中央别墅区        整租    长岛澜桥   60000元/月   \n2  BJ1564879648565755904   北京   昌平    北七家        整租  王府温馨公寓    6300元/月   \n3  BJ1564889162052534272   北京   朝阳    亚运村        整租  洛克时代中心   27000元/月   \n4  BJ1564895392078757888   北京   朝阳  中央别墅区        整租     瑞悦府    7500元/月   \n\n  house_type home_size           des  direc    level have_lift  longtitude  \\\n0     1室1厅1卫    88.00㎡   近地铁 精装 随时看房  东 南 北   中楼层/9层         有  116.265725   \n1     4室2厅5卫   330.00㎡       精装 随时看房    南 北   地下室/3层         有  116.518370   \n2     3室2厅2卫   119.65㎡  精装 集中供暖 双卫生间    南 北   低楼层/6层         无  116.400088   \n3     1室0厅0卫   164.86㎡      近地铁 集中供暖     西南  中楼层/20层         有  116.413442   \n4     3室1厅1卫    90.00㎡          集中供暖    南 北  高楼层/11层         有  116.530722   \n\n    latitude distance                                                url  \n0  40.057734     282米  https://m.lianjia.com/chuzu/bj/zufang/BJ156485...  \n1  40.031834      NaN  https://m.lianjia.com/chuzu/bj/zufang/BJ156486...  \n2  40.113401      NaN  https://m.lianjia.com/chuzu/bj/zufang/BJ156487...  \n3  40.008456     152米  https://m.lianjia.com/chuzu/bj/zufang/BJ156488...  \n4  40.050625      NaN  https://m.lianjia.com/chuzu/bj/zufang/BJ156489...  ",
      "text/html": "<div>\n<style scoped>\n    .dataframe tbody tr th:only-of-type {\n        vertical-align: middle;\n    }\n\n    .dataframe tbody tr th {\n        vertical-align: top;\n    }\n\n    .dataframe thead th {\n        text-align: right;\n    }\n</style>\n<table border=\"1\" class=\"dataframe\">\n  <thead>\n    <tr style=\"text-align: right;\">\n      <th></th>\n      <th>house_code</th>\n      <th>city</th>\n      <th>area</th>\n      <th>street</th>\n      <th>rent_type</th>\n      <th>region</th>\n      <th>rent_price</th>\n      <th>house_type</th>\n      <th>home_size</th>\n      <th>des</th>\n      <th>direc</th>\n      <th>level</th>\n      <th>have_lift</th>\n      <th>longtitude</th>\n      <th>latitude</th>\n      <th>distance</th>\n      <th>url</th>\n    </tr>\n  </thead>\n  <tbody>\n    <tr>\n      <th>0</th>\n      <td>BJ1564859542443917312</td>\n      <td>北京</td>\n      <td>海淀</td>\n      <td>西北旺</td>\n      <td>整租</td>\n      <td>中海枫涟山庄</td>\n      <td>8000元/月</td>\n      <td>1室1厅1卫</td>\n      <td>88.00㎡</td>\n      <td>近地铁 精装 随时看房</td>\n      <td>东 南 北</td>\n      <td>中楼层/9层</td>\n      <td>有</td>\n      <td>116.265725</td>\n      <td>40.057734</td>\n      <td>282米</td>\n      <td>https://m.lianjia.com/chuzu/bj/zufang/BJ156485...</td>\n    </tr>\n    <tr>\n      <th>1</th>\n      <td>BJ1564867555972087808</td>\n      <td>北京</td>\n      <td>朝阳</td>\n      <td>中央别墅区</td>\n      <td>整租</td>\n      <td>长岛澜桥</td>\n      <td>60000元/月</td>\n      <td>4室2厅5卫</td>\n      <td>330.00㎡</td>\n      <td>精装 随时看房</td>\n      <td>南 北</td>\n      <td>地下室/3层</td>\n      <td>有</td>\n      <td>116.518370</td>\n      <td>40.031834</td>\n      <td>NaN</td>\n      <td>https://m.lianjia.com/chuzu/bj/zufang/BJ156486...</td>\n    </tr>\n    <tr>\n      <th>2</th>\n      <td>BJ1564879648565755904</td>\n      <td>北京</td>\n      <td>昌平</td>\n      <td>北七家</td>\n      <td>整租</td>\n      <td>王府温馨公寓</td>\n      <td>6300元/月</td>\n      <td>3室2厅2卫</td>\n      <td>119.65㎡</td>\n      <td>精装 集中供暖 双卫生间</td>\n      <td>南 北</td>\n      <td>低楼层/6层</td>\n      <td>无</td>\n      <td>116.400088</td>\n      <td>40.113401</td>\n      <td>NaN</td>\n      <td>https://m.lianjia.com/chuzu/bj/zufang/BJ156487...</td>\n    </tr>\n    <tr>\n      <th>3</th>\n      <td>BJ1564889162052534272</td>\n      <td>北京</td>\n      <td>朝阳</td>\n      <td>亚运村</td>\n      <td>整租</td>\n      <td>洛克时代中心</td>\n      <td>27000元/月</td>\n      <td>1室0厅0卫</td>\n      <td>164.86㎡</td>\n      <td>近地铁 集中供暖</td>\n      <td>西南</td>\n      <td>中楼层/20层</td>\n      <td>有</td>\n      <td>116.413442</td>\n      <td>40.008456</td>\n      <td>152米</td>\n      <td>https://m.lianjia.com/chuzu/bj/zufang/BJ156488...</td>\n    </tr>\n    <tr>\n      <th>4</th>\n      <td>BJ1564895392078757888</td>\n      <td>北京</td>\n      <td>朝阳</td>\n      <td>中央别墅区</td>\n      <td>整租</td>\n      <td>瑞悦府</td>\n      <td>7500元/月</td>\n      <td>3室1厅1卫</td>\n      <td>90.00㎡</td>\n      <td>集中供暖</td>\n      <td>南 北</td>\n      <td>高楼层/11层</td>\n      <td>有</td>\n      <td>116.530722</td>\n      <td>40.050625</td>\n      <td>NaN</td>\n      <td>https://m.lianjia.com/chuzu/bj/zufang/BJ156489...</td>\n    </tr>\n  </tbody>\n</table>\n</div>"
     },
     "execution_count": 2,
     "metadata": {},
     "output_type": "execute_result"
    }
   ],
   "source": [
    "df.head(5)\n"
   ],
   "metadata": {
    "collapsed": false,
    "pycharm": {
     "name": "#%%\n"
    }
   }
  },
  {
   "cell_type": "code",
   "execution_count": 3,
   "outputs": [
    {
     "name": "stdout",
     "output_type": "stream",
     "text": [
      "<class 'pandas.core.frame.DataFrame'>\n",
      "RangeIndex: 23014 entries, 0 to 23013\n",
      "Data columns (total 17 columns):\n",
      " #   Column      Non-Null Count  Dtype  \n",
      "---  ------      --------------  -----  \n",
      " 0   house_code  23014 non-null  object \n",
      " 1   city        23014 non-null  object \n",
      " 2   area        23014 non-null  object \n",
      " 3   street      23014 non-null  object \n",
      " 4   rent_type   23011 non-null  object \n",
      " 5   region      23011 non-null  object \n",
      " 6   rent_price  23014 non-null  object \n",
      " 7   house_type  23014 non-null  object \n",
      " 8   home_size   23014 non-null  object \n",
      " 9   des         22842 non-null  object \n",
      " 10  direc       23014 non-null  object \n",
      " 11  level       23014 non-null  object \n",
      " 12  have_lift   23014 non-null  object \n",
      " 13  longtitude  23014 non-null  float64\n",
      " 14  latitude    23014 non-null  float64\n",
      " 15  distance    15288 non-null  object \n",
      " 16  url         23014 non-null  object \n",
      "dtypes: float64(2), object(15)\n",
      "memory usage: 3.0+ MB\n"
     ]
    }
   ],
   "source": [
    "df.info()\n"
   ],
   "metadata": {
    "collapsed": false,
    "pycharm": {
     "name": "#%%\n"
    }
   }
  },
  {
   "cell_type": "code",
   "execution_count": 16,
   "outputs": [
    {
     "data": {
      "text/plain": "<folium.folium.Map at 0x26d1fa96850>",
      "text/html": "<div style=\"width:100%;\"><div style=\"position:relative;width:100%;height:0;padding-bottom:60%;\"><span style=\"color:#565656\">Make this Notebook Trusted to load map: File -> Trust Notebook</span><iframe src=\"about:blank\" style=\"position:absolute;width:100%;height:100%;left:0;top:0;border:none !important;\" data-html=%3C%21DOCTYPE%20html%3E%0A%3Chead%3E%20%20%20%20%0A%20%20%20%20%3Cmeta%20http-equiv%3D%22content-type%22%20content%3D%22text/html%3B%20charset%3DUTF-8%22%20/%3E%0A%20%20%20%20%0A%20%20%20%20%20%20%20%20%3Cscript%3E%0A%20%20%20%20%20%20%20%20%20%20%20%20L_NO_TOUCH%20%3D%20false%3B%0A%20%20%20%20%20%20%20%20%20%20%20%20L_DISABLE_3D%20%3D%20false%3B%0A%20%20%20%20%20%20%20%20%3C/script%3E%0A%20%20%20%20%0A%20%20%20%20%3Cstyle%3Ehtml%2C%20body%20%7Bwidth%3A%20100%25%3Bheight%3A%20100%25%3Bmargin%3A%200%3Bpadding%3A%200%3B%7D%3C/style%3E%0A%20%20%20%20%3Cstyle%3E%23map%20%7Bposition%3Aabsolute%3Btop%3A0%3Bbottom%3A0%3Bright%3A0%3Bleft%3A0%3B%7D%3C/style%3E%0A%20%20%20%20%3Cscript%20src%3D%22https%3A//cdn.jsdelivr.net/npm/leaflet%401.6.0/dist/leaflet.js%22%3E%3C/script%3E%0A%20%20%20%20%3Cscript%20src%3D%22https%3A//code.jquery.com/jquery-1.12.4.min.js%22%3E%3C/script%3E%0A%20%20%20%20%3Cscript%20src%3D%22https%3A//maxcdn.bootstrapcdn.com/bootstrap/3.2.0/js/bootstrap.min.js%22%3E%3C/script%3E%0A%20%20%20%20%3Cscript%20src%3D%22https%3A//cdnjs.cloudflare.com/ajax/libs/Leaflet.awesome-markers/2.0.2/leaflet.awesome-markers.js%22%3E%3C/script%3E%0A%20%20%20%20%3Clink%20rel%3D%22stylesheet%22%20href%3D%22https%3A//cdn.jsdelivr.net/npm/leaflet%401.6.0/dist/leaflet.css%22/%3E%0A%20%20%20%20%3Clink%20rel%3D%22stylesheet%22%20href%3D%22https%3A//maxcdn.bootstrapcdn.com/bootstrap/3.2.0/css/bootstrap.min.css%22/%3E%0A%20%20%20%20%3Clink%20rel%3D%22stylesheet%22%20href%3D%22https%3A//maxcdn.bootstrapcdn.com/bootstrap/3.2.0/css/bootstrap-theme.min.css%22/%3E%0A%20%20%20%20%3Clink%20rel%3D%22stylesheet%22%20href%3D%22https%3A//maxcdn.bootstrapcdn.com/font-awesome/4.6.3/css/font-awesome.min.css%22/%3E%0A%20%20%20%20%3Clink%20rel%3D%22stylesheet%22%20href%3D%22https%3A//cdnjs.cloudflare.com/ajax/libs/Leaflet.awesome-markers/2.0.2/leaflet.awesome-markers.css%22/%3E%0A%20%20%20%20%3Clink%20rel%3D%22stylesheet%22%20href%3D%22https%3A//cdn.jsdelivr.net/gh/python-visualization/folium/folium/templates/leaflet.awesome.rotate.min.css%22/%3E%0A%20%20%20%20%0A%20%20%20%20%20%20%20%20%20%20%20%20%3Cmeta%20name%3D%22viewport%22%20content%3D%22width%3Ddevice-width%2C%0A%20%20%20%20%20%20%20%20%20%20%20%20%20%20%20%20initial-scale%3D1.0%2C%20maximum-scale%3D1.0%2C%20user-scalable%3Dno%22%20/%3E%0A%20%20%20%20%20%20%20%20%20%20%20%20%3Cstyle%3E%0A%20%20%20%20%20%20%20%20%20%20%20%20%20%20%20%20%23map_c3af5e0e2e1b465e9bd6e2f0198c6b71%20%7B%0A%20%20%20%20%20%20%20%20%20%20%20%20%20%20%20%20%20%20%20%20position%3A%20relative%3B%0A%20%20%20%20%20%20%20%20%20%20%20%20%20%20%20%20%20%20%20%20width%3A%20100.0%25%3B%0A%20%20%20%20%20%20%20%20%20%20%20%20%20%20%20%20%20%20%20%20height%3A%20100.0%25%3B%0A%20%20%20%20%20%20%20%20%20%20%20%20%20%20%20%20%20%20%20%20left%3A%200.0%25%3B%0A%20%20%20%20%20%20%20%20%20%20%20%20%20%20%20%20%20%20%20%20top%3A%200.0%25%3B%0A%20%20%20%20%20%20%20%20%20%20%20%20%20%20%20%20%7D%0A%20%20%20%20%20%20%20%20%20%20%20%20%3C/style%3E%0A%20%20%20%20%20%20%20%20%0A%3C/head%3E%0A%3Cbody%3E%20%20%20%20%0A%20%20%20%20%0A%20%20%20%20%20%20%20%20%20%20%20%20%3Cdiv%20class%3D%22folium-map%22%20id%3D%22map_c3af5e0e2e1b465e9bd6e2f0198c6b71%22%20%3E%3C/div%3E%0A%20%20%20%20%20%20%20%20%0A%3C/body%3E%0A%3Cscript%3E%20%20%20%20%0A%20%20%20%20%0A%20%20%20%20%20%20%20%20%20%20%20%20var%20map_c3af5e0e2e1b465e9bd6e2f0198c6b71%20%3D%20L.map%28%0A%20%20%20%20%20%20%20%20%20%20%20%20%20%20%20%20%22map_c3af5e0e2e1b465e9bd6e2f0198c6b71%22%2C%0A%20%20%20%20%20%20%20%20%20%20%20%20%20%20%20%20%7B%0A%20%20%20%20%20%20%20%20%20%20%20%20%20%20%20%20%20%20%20%20center%3A%20%5B40.057734%2C%20116.265725%5D%2C%0A%20%20%20%20%20%20%20%20%20%20%20%20%20%20%20%20%20%20%20%20crs%3A%20L.CRS.EPSG3857%2C%0A%20%20%20%20%20%20%20%20%20%20%20%20%20%20%20%20%20%20%20%20zoom%3A%2015%2C%0A%20%20%20%20%20%20%20%20%20%20%20%20%20%20%20%20%20%20%20%20zoomControl%3A%20true%2C%0A%20%20%20%20%20%20%20%20%20%20%20%20%20%20%20%20%20%20%20%20preferCanvas%3A%20false%2C%0A%20%20%20%20%20%20%20%20%20%20%20%20%20%20%20%20%7D%0A%20%20%20%20%20%20%20%20%20%20%20%20%29%3B%0A%0A%20%20%20%20%20%20%20%20%20%20%20%20%0A%0A%20%20%20%20%20%20%20%20%0A%20%20%20%20%0A%20%20%20%20%20%20%20%20%20%20%20%20var%20tile_layer_4cf8eb7f1f3c4edf8045be9b005525b6%20%3D%20L.tileLayer%28%0A%20%20%20%20%20%20%20%20%20%20%20%20%20%20%20%20%22https%3A//%7Bs%7D.tile.openstreetmap.org/%7Bz%7D/%7Bx%7D/%7By%7D.png%22%2C%0A%20%20%20%20%20%20%20%20%20%20%20%20%20%20%20%20%7B%22attribution%22%3A%20%22Data%20by%20%5Cu0026copy%3B%20%5Cu003ca%20href%3D%5C%22http%3A//openstreetmap.org%5C%22%5Cu003eOpenStreetMap%5Cu003c/a%5Cu003e%2C%20under%20%5Cu003ca%20href%3D%5C%22http%3A//www.openstreetmap.org/copyright%5C%22%5Cu003eODbL%5Cu003c/a%5Cu003e.%22%2C%20%22detectRetina%22%3A%20false%2C%20%22maxNativeZoom%22%3A%2018%2C%20%22maxZoom%22%3A%2018%2C%20%22minZoom%22%3A%200%2C%20%22noWrap%22%3A%20false%2C%20%22opacity%22%3A%201%2C%20%22subdomains%22%3A%20%22abc%22%2C%20%22tms%22%3A%20false%7D%0A%20%20%20%20%20%20%20%20%20%20%20%20%29.addTo%28map_c3af5e0e2e1b465e9bd6e2f0198c6b71%29%3B%0A%20%20%20%20%20%20%20%20%0A%20%20%20%20%0A%20%20%20%20%20%20%20%20%20%20%20%20var%20marker_deb30624a7184f78900a150c8c94543d%20%3D%20L.marker%28%0A%20%20%20%20%20%20%20%20%20%20%20%20%20%20%20%20%5B40.057734%2C%20116.265725%5D%2C%0A%20%20%20%20%20%20%20%20%20%20%20%20%20%20%20%20%7B%7D%0A%20%20%20%20%20%20%20%20%20%20%20%20%29.addTo%28map_c3af5e0e2e1b465e9bd6e2f0198c6b71%29%3B%0A%20%20%20%20%20%20%20%20%0A%20%20%20%20%0A%20%20%20%20%20%20%20%20%20%20%20%20marker_deb30624a7184f78900a150c8c94543d.bindTooltip%28%0A%20%20%20%20%20%20%20%20%20%20%20%20%20%20%20%20%60%3Cdiv%3E%0A%20%20%20%20%20%20%20%20%20%20%20%20%20%20%20%20%20%20%20%20%20click%20here%0A%20%20%20%20%20%20%20%20%20%20%20%20%20%20%20%20%20%3C/div%3E%60%2C%0A%20%20%20%20%20%20%20%20%20%20%20%20%20%20%20%20%7B%22sticky%22%3A%20true%7D%0A%20%20%20%20%20%20%20%20%20%20%20%20%29%3B%0A%20%20%20%20%20%20%20%20%0A%3C/script%3E onload=\"this.contentDocument.open();this.contentDocument.write(    decodeURIComponent(this.getAttribute('data-html')));this.contentDocument.close();\" allowfullscreen webkitallowfullscreen mozallowfullscreen></iframe></div></div>"
     },
     "execution_count": 16,
     "metadata": {},
     "output_type": "execute_result"
    }
   ],
   "source": [
    "import folium\n",
    "lon=df['longtitude'][0]\n",
    "lat=df['latitude'][0]\n",
    "Map=folium.Map(location=[lat,lon],zoom_start=15)\n",
    "folium.Marker(location=[lat,lon],tooltip=\"click here\").add_to(Map)\n",
    "Map"
   ],
   "metadata": {
    "collapsed": false,
    "pycharm": {
     "name": "#%%\n"
    }
   }
  },
  {
   "cell_type": "code",
   "execution_count": 21,
   "outputs": [],
   "source": [
    "from pyecharts.globals import CurrentConfig, NotebookType\n",
    "CurrentConfig.NOTEBOOK_TYPE = NotebookType.JUPYTER_NOTEBOOK\n",
    "from pyecharts.faker import Faker\n",
    "from pyecharts import options as opts\n",
    "from pyecharts.charts import Geo\n",
    "from pyecharts.charts import BMap"
   ],
   "metadata": {
    "collapsed": false,
    "pycharm": {
     "name": "#%%\n"
    }
   }
  },
  {
   "cell_type": "code",
   "execution_count": 25,
   "outputs": [
    {
     "data": {
      "text/plain": "'D:\\\\PyCharm\\\\dataAnalysis\\\\zufang\\\\map.html'"
     },
     "execution_count": 25,
     "metadata": {},
     "output_type": "execute_result"
    }
   ],
   "source": [
    "ak=\"gOBNG2qfUKbMH0z3KzKobT6TdpG4QsZi\"\n",
    "b1=BMap()\n",
    "b1.add_schema(baidu_ak=ak,center=[lon,lat],zoom=20)\n",
    "b1.add_coordinate()\n",
    "b1.set_global_opts(title_opts=opts.TitleOpts(title=\"示例\"))\n",
    "b1.render('map.html')"
   ],
   "metadata": {
    "collapsed": false,
    "pycharm": {
     "name": "#%%\n"
    }
   }
  },
  {
   "cell_type": "code",
   "execution_count": null,
   "outputs": [],
   "source": [],
   "metadata": {
    "collapsed": false,
    "pycharm": {
     "name": "#%%\n"
    }
   }
  }
 ],
 "metadata": {
  "kernelspec": {
   "display_name": "Python 3",
   "language": "python",
   "name": "python3"
  },
  "language_info": {
   "codemirror_mode": {
    "name": "ipython",
    "version": 2
   },
   "file_extension": ".py",
   "mimetype": "text/x-python",
   "name": "python",
   "nbconvert_exporter": "python",
   "pygments_lexer": "ipython2",
   "version": "2.7.6"
  }
 },
 "nbformat": 4,
 "nbformat_minor": 0
}